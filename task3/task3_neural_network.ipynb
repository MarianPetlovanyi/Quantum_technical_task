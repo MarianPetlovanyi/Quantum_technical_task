{
 "cells": [
  {
   "cell_type": "markdown",
   "id": "90c77272",
   "metadata": {},
   "source": [
    "So from task3_analysis.ipynb we saw that 6th column and target are related. \n",
    "\n",
    "As I have said before in task3_analysis.ipynb, I prefer ML solution so you can check it in task3_regression.ipynb but I will provide You also with DL solution \n",
    "\n",
    "Let's build a Deep learning model. \n",
    "\n",
    "First of all we should do some imports(tensorflow as main tool for DL and matplotlib for visualization)"
   ]
  },
  {
   "cell_type": "code",
   "execution_count": 1,
   "id": "83a6f0c6",
   "metadata": {},
   "outputs": [
    {
     "name": "stderr",
     "output_type": "stream",
     "text": [
      "2023-03-09 23:57:10.725786: I tensorflow/core/platform/cpu_feature_guard.cc:193] This TensorFlow binary is optimized with oneAPI Deep Neural Network Library (oneDNN) to use the following CPU instructions in performance-critical operations:  AVX2 FMA\n",
      "To enable them in other operations, rebuild TensorFlow with the appropriate compiler flags.\n"
     ]
    }
   ],
   "source": [
    "import tensorflow as tf\n",
    "import matplotlib.pyplot as plt"
   ]
  },
  {
   "cell_type": "markdown",
   "id": "23a2b4c1",
   "metadata": {},
   "source": [
    "Let's get and preprocess the data we think is the most critical for our model(6th and 'target' columns from intership_train.csv)"
   ]
  },
  {
   "cell_type": "code",
   "execution_count": 2,
   "id": "59246417",
   "metadata": {},
   "outputs": [],
   "source": [
    "import pandas as pd\n",
    "import numpy as np\n",
    "features = pd.read_csv('Data/internship_train.csv')['6']\n",
    "labels = pd.read_csv('Data/internship_train.csv')['target']\n",
    "features = np.array(features)\n",
    "labels = np.array(labels)"
   ]
  },
  {
   "cell_type": "markdown",
   "id": "d114077d",
   "metadata": {},
   "source": [
    "Let's get and preprocess test data"
   ]
  },
  {
   "cell_type": "code",
   "execution_count": 3,
   "id": "9a350ef1",
   "metadata": {},
   "outputs": [
    {
     "data": {
      "text/plain": [
       "0       3.316625\n",
       "1      -8.888194\n",
       "2       2.645751\n",
       "3      -6.164414\n",
       "4       8.000000\n",
       "          ...   \n",
       "9995    6.708204\n",
       "9996    5.656854\n",
       "9997    4.690416\n",
       "9998    4.000000\n",
       "9999    9.539392\n",
       "Name: 6, Length: 10000, dtype: float64"
      ]
     },
     "execution_count": 3,
     "metadata": {},
     "output_type": "execute_result"
    }
   ],
   "source": [
    "X_test = pd.read_csv('Data/internship_hidden_test.csv')\n",
    "X_test = X_test['6']\n",
    "X_test"
   ]
  },
  {
   "cell_type": "markdown",
   "id": "b61eed11",
   "metadata": {},
   "source": [
    "Let's split our data to train and validatite datasets"
   ]
  },
  {
   "cell_type": "code",
   "execution_count": 4,
   "id": "7dc205ae",
   "metadata": {},
   "outputs": [
    {
     "data": {
      "text/plain": [
       "(array([-6.8556546 ,  6.92820323,  7.07106781, ...,  4.69041576,\n",
       "        -4.58257569,  7.28010989]),\n",
       " array([47.72338302, 48.81575763, 50.87937167, ..., 22.95269759,\n",
       "        21.19962302, 53.60049563]))"
      ]
     },
     "execution_count": 4,
     "metadata": {},
     "output_type": "execute_result"
    }
   ],
   "source": [
    "from sklearn.model_selection import train_test_split\n",
    "X_train, X_val, y_train, y_val = train_test_split(features, labels, test_size=0.2, random_state=42)\n",
    "X_train, y_train"
   ]
  },
  {
   "cell_type": "markdown",
   "id": "b61631c2",
   "metadata": {},
   "source": [
    "Let's define our sequential deep learning model(I don't think that dense count is so critical for this task)"
   ]
  },
  {
   "cell_type": "code",
   "execution_count": 5,
   "id": "5bf8f480",
   "metadata": {},
   "outputs": [
    {
     "name": "stderr",
     "output_type": "stream",
     "text": [
      "2023-03-09 23:57:15.724239: I tensorflow/core/platform/cpu_feature_guard.cc:193] This TensorFlow binary is optimized with oneAPI Deep Neural Network Library (oneDNN) to use the following CPU instructions in performance-critical operations:  AVX2 FMA\n",
      "To enable them in other operations, rebuild TensorFlow with the appropriate compiler flags.\n"
     ]
    }
   ],
   "source": [
    "model = tf.keras.Sequential([\n",
    "    tf.keras.layers.InputLayer(input_shape=(1,)),\n",
    "    tf.keras.layers.Dense(64, activation='relu'),\n",
    "    tf.keras.layers.Dense(64, activation='relu'),\n",
    "    tf.keras.layers.Dense(32, activation='relu'),\n",
    "    tf.keras.layers.Dense(1)\n",
    "])"
   ]
  },
  {
   "cell_type": "markdown",
   "id": "f96a15d6",
   "metadata": {},
   "source": [
    "And compile it\n",
    "\n",
    "Optimizer -> Adam(lr=0.01(defalut))\n",
    "\n",
    "Loss -> MSE\n",
    "\n",
    "Metrics -> RMSE"
   ]
  },
  {
   "cell_type": "code",
   "execution_count": 6,
   "id": "3c35b582",
   "metadata": {},
   "outputs": [],
   "source": [
    "model.compile(optimizer='adam', loss='mean_squared_error', metrics=[tf.keras.metrics.RootMeanSquaredError()])"
   ]
  },
  {
   "cell_type": "markdown",
   "id": "09640d2d",
   "metadata": {},
   "source": [
    "Also I think that defining early stopping callback is also worth doing"
   ]
  },
  {
   "cell_type": "code",
   "execution_count": 7,
   "id": "84144796",
   "metadata": {},
   "outputs": [],
   "source": [
    "early_stopping = tf.keras.callbacks.EarlyStopping(monitor='val_loss', patience=5, restore_best_weights=True)"
   ]
  },
  {
   "cell_type": "markdown",
   "id": "99537723",
   "metadata": {},
   "source": [
    "Let's set random seed to 42 and fit our model"
   ]
  },
  {
   "cell_type": "code",
   "execution_count": 8,
   "id": "007e995c",
   "metadata": {},
   "outputs": [
    {
     "name": "stdout",
     "output_type": "stream",
     "text": [
      "Epoch 1/50\n",
      "1125/1125 [==============================] - 3s 2ms/step - loss: 211.9288 - root_mean_squared_error: 14.5578 - val_loss: 0.6599 - val_root_mean_squared_error: 0.8123\n",
      "Epoch 2/50\n",
      "1125/1125 [==============================] - 2s 2ms/step - loss: 0.2385 - root_mean_squared_error: 0.4884 - val_loss: 0.1211 - val_root_mean_squared_error: 0.3479\n",
      "Epoch 3/50\n",
      "1125/1125 [==============================] - 2s 2ms/step - loss: 0.1239 - root_mean_squared_error: 0.3520 - val_loss: 0.1157 - val_root_mean_squared_error: 0.3402\n",
      "Epoch 4/50\n",
      "1125/1125 [==============================] - 2s 2ms/step - loss: 0.1271 - root_mean_squared_error: 0.3565 - val_loss: 0.1144 - val_root_mean_squared_error: 0.3383\n",
      "Epoch 5/50\n",
      "1125/1125 [==============================] - 2s 2ms/step - loss: 0.1373 - root_mean_squared_error: 0.3705 - val_loss: 0.0903 - val_root_mean_squared_error: 0.3004\n",
      "Epoch 6/50\n",
      "1125/1125 [==============================] - 2s 2ms/step - loss: 0.1310 - root_mean_squared_error: 0.3619 - val_loss: 0.1264 - val_root_mean_squared_error: 0.3555\n",
      "Epoch 7/50\n",
      "1125/1125 [==============================] - 2s 2ms/step - loss: 0.1337 - root_mean_squared_error: 0.3656 - val_loss: 0.1128 - val_root_mean_squared_error: 0.3358\n",
      "Epoch 8/50\n",
      "1125/1125 [==============================] - 2s 2ms/step - loss: 0.1319 - root_mean_squared_error: 0.3632 - val_loss: 0.1100 - val_root_mean_squared_error: 0.3317\n",
      "Epoch 9/50\n",
      "1125/1125 [==============================] - 3s 2ms/step - loss: 0.1378 - root_mean_squared_error: 0.3712 - val_loss: 0.1273 - val_root_mean_squared_error: 0.3568\n",
      "Epoch 10/50\n",
      "1125/1125 [==============================] - 3s 2ms/step - loss: 0.1328 - root_mean_squared_error: 0.3644 - val_loss: 0.1811 - val_root_mean_squared_error: 0.4256\n"
     ]
    }
   ],
   "source": [
    "tf.random.set_seed(42)\n",
    "history = model.fit(X_train, y_train, epochs=50, batch_size=64, validation_data=(X_val, y_val), callbacks=[early_stopping])"
   ]
  },
  {
   "cell_type": "markdown",
   "id": "4440c80a",
   "metadata": {},
   "source": [
    "So we get loss = 0.1328 and rmse = 0.3644 on training data and loss = 0.1811 and rmse = 0.4256 on validation data(your result may vary)\n",
    "\n",
    "I think this result is quite good because of datasets biases\n",
    "\n",
    "Small function definiton to check model history"
   ]
  },
  {
   "cell_type": "code",
   "execution_count": 14,
   "id": "b3a7da21",
   "metadata": {},
   "outputs": [],
   "source": [
    "def plot_loss_curves(history):\n",
    "  loss = history.history['loss']\n",
    "  val_loss = history.history['val_loss']\n",
    "  epochs = range(len(history.history['loss']))\n",
    "\n",
    "  plt.plot(epochs, loss, label='training_loss')\n",
    "  plt.plot(epochs, val_loss, label='val_loss')\n",
    "  plt.title('loss')\n",
    "  plt.xlabel('Epochs')\n",
    "  plt.legend()"
   ]
  },
  {
   "cell_type": "code",
   "execution_count": 15,
   "id": "6e8f93d2",
   "metadata": {},
   "outputs": [
    {
     "data": {
      "image/png": "[encoded data removed]",
      "text/plain": [
       "<Figure size 640x480 with 1 Axes>"
      ]
     },
     "metadata": {},
     "output_type": "display_data"
    }
   ],
   "source": [
    "plot_loss_curves(history)"
   ]
  },
  {
   "cell_type": "markdown",
   "id": "59e01ae8",
   "metadata": {},
   "source": [
    "Let's do our predictions and save them to predictions.csv"
   ]
  },
  {
   "cell_type": "code",
   "execution_count": 23,
   "id": "bca26b20",
   "metadata": {},
   "outputs": [
    {
     "name": "stdout",
     "output_type": "stream",
     "text": [
      "313/313 [==============================] - 0s 945us/step\n"
     ]
    }
   ],
   "source": [
    "predictions = model.predict(X_test)\n",
    "np.savetxt('results/predictions_DL.csv', predictions, delimiter=',')"
   ]
  },
  {
   "cell_type": "markdown",
   "id": "07c43723",
   "metadata": {},
   "source": [
    "Let's define a function that will plot y against x and call it to see the results"
   ]
  },
  {
   "cell_type": "code",
   "execution_count": 20,
   "id": "e8ba6872",
   "metadata": {},
   "outputs": [],
   "source": [
    "def plot_func(x, y):\n",
    "    \"\"\"\n",
    "    Function to plot y=f(x)\n",
    "    \n",
    "    \"\"\"\n",
    "    fig, ax = plt.subplots()\n",
    "    ax.scatter(x, y, label=\"Predicted\")\n",
    "    x_squared = np.linspace(np.min(x), np.max(x), 100)\n",
    "    y_squared = x_squared ** 2\n",
    "    ax.plot(x_squared, y_squared, color='r', label=\"y=x^2\")\n",
    "    \n",
    "    plt.xlabel('Feature Values')\n",
    "    plt.ylabel('Labels Values')\n",
    "    plt.title('Plot of Labels vs Features')\n",
    "    plt.legend()\n",
    "    plt.show()"
   ]
  },
  {
   "cell_type": "code",
   "execution_count": 21,
   "id": "4afa7904",
   "metadata": {},
   "outputs": [
    {
     "data": {
      "image/png": "[encoded data removed]",
      "text/plain": [
       "<Figure size 640x480 with 1 Axes>"
      ]
     },
     "metadata": {},
     "output_type": "display_data"
    }
   ],
   "source": [
    "plot_func(X_test, predictions)"
   ]
  }
 ],
 "metadata": {
  "kernelspec": {
   "display_name": "Python 3 (ipykernel)",
   "language": "python",
   "name": "python3"
  },
  "language_info": {
   "codemirror_mode": {
    "name": "ipython",
    "version": 3
   },
   "file_extension": ".py",
   "mimetype": "text/x-python",
   "name": "python",
   "nbconvert_exporter": "python",
   "pygments_lexer": "ipython3",
   "version": "3.10.6"
  }
 },
 "nbformat": 4,
 "nbformat_minor": 5
}
