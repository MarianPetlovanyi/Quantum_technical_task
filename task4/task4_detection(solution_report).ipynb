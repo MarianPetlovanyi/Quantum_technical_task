{
 "cells": [
  {
   "cell_type": "markdown",
   "metadata": {},
   "source": [
    "#### What I have done after completing task4_analysis_and_preprocess.ipynb\n",
    "\n",
    "- I tried to make more data(like fields without erosion) from jp2 file using GIMP and laso tool(after 50 labeled photos I was totaly exhausted)\n",
    "\n",
    "- Also i created csv for labeled image\n",
    "\n",
    "- I have cut a few bigger png images from jp2 tile(why? I will explain below)\n",
    "\n",
    "\n",
    "### How do I think solution should look like\n",
    "First of all, I thought that I can pass jp2 map as input and binary map as output. Why have I abandoned that. I think that 10980x10980 input and output is impossible to compute with my pc or Google Colab cloud. What is more, 1 picture is too small dataset\n",
    "\n",
    "Secondly, I thougth that it may be possible to divide huge map into small batches(parts) for example 2400 batches with size 224x224 but... I have abandoned it too.\n",
    "So I have taken pictures I preprocessed, pick MobileNetV2 architectures(VGG16 detected cities perfectly but I need soil erosion!), pass it into RCNN\n",
    "\n",
    "To be honest, I think that second one was the best. If only I had more time and more data...\n",
    "\n",
    "So... I have chosen third one. I have cut in GIMP some parts of jp2 tile(approximately 500x500 px, you can see them in 'inputs' directory) like input and I wanted to have the same picture as output but with multiple bounding boxes. To be honest, I think that colab is more convenient so I will provide You with some photos that I got there\n",
    "\n",
    "It would be great if I had more time to research and more time to tackle this problem"
   ]
  },
  {
   "cell_type": "code",
   "execution_count": null,
   "metadata": {
    "id": "RlzDv28J9ml3"
   },
   "outputs": [],
   "source": [
    "import os\n",
    "\n",
    "ORIG_BASE_PATH = \"soils\"\n",
    "ORIG_IMAGES = os.path.sep.join([ORIG_BASE_PATH, \"images\"])\n",
    "ORIG_ANNOTS = os.path.sep.join([ORIG_BASE_PATH, \"erosion\"])\n",
    "\n",
    "BASE_PATH = \"dataset\"\n",
    "POSITVE_PATH = os.path.sep.join([BASE_PATH, \"positive\"])\n",
    "NEGATIVE_PATH = os.path.sep.join([BASE_PATH, \"negative\"])\n",
    "\n",
    "MAX_PROPOSALS = 2000\n",
    "MAX_PROPOSALS_INFER = 200\n",
    "\n",
    "MAX_POSITIVE = 30\n",
    "MAX_NEGATIVE = 10\n",
    "\n",
    "\n",
    "INPUT_DIMS = (224, 224)\n",
    "\n",
    "MODEL_PATH = \"erosion_detector.h5\"\n",
    "ENCODER_PATH = \"label_encoder.pickle\"\n",
    "\n",
    "MIN_PROBA = 0.995"
   ]
  },
  {
   "cell_type": "code",
   "execution_count": null,
   "metadata": {
    "id": "AyQr4JLo4Y1c"
   },
   "outputs": [],
   "source": [
    "def compute_iou(boxA, boxB):\n",
    "\txA = max(boxA[0], boxB[0])\n",
    "\tyA = max(boxA[1], boxB[1])\n",
    "\txB = min(boxA[2], boxB[2])\n",
    "\tyB = min(boxA[3], boxB[3])\n",
    "\tinterArea = max(0, xB - xA + 1) * max(0, yB - yA + 1)\n",
    "\tboxAArea = (boxA[2] - boxA[0] + 1) * (boxA[3] - boxA[1] + 1)\n",
    "\tboxBArea = (boxB[2] - boxB[0] + 1) * (boxB[3] - boxB[1] + 1)\n",
    "\n",
    "\tiou = interArea / float(boxAArea + boxBArea - interArea)\n",
    "\treturn iou"
   ]
  },
  {
   "cell_type": "code",
   "execution_count": null,
   "metadata": {
    "id": "X31PiWxd4bQ8"
   },
   "outputs": [],
   "source": [
    "import numpy as np\n",
    "def non_max_suppression(boxes, overlapThresh):\n",
    "    if len(boxes) == 0:\n",
    "        return []\n",
    "    pick = []\n",
    "    x1 = boxes[:, 0]\n",
    "    y1 = boxes[:, 1]\n",
    "    x2 = boxes[:, 2]\n",
    "    y2 = boxes[:, 3]\n",
    "    area = (x2 - x1 + 1) * (y2 - y1 + 1)\n",
    "    idxs = np.argsort(y2)\n",
    "    while len(idxs) > 0:\n",
    "        last = len(idxs) - 1\n",
    "        i = idxs[last]\n",
    "        pick.append(i)\n",
    "        suppress = [last]\n",
    "        for pos in range(0, last):\n",
    "            j = idxs[pos]\n",
    "            xx1 = max(x1[i], x1[j])\n",
    "            yy1 = max(y1[i], y1[j])\n",
    "            xx2 = min(x2[i], x2[j])\n",
    "            yy2 = min(y2[i], y2[j])\n",
    "            w = max(0, xx2 - xx1 + 1)\n",
    "            h = max(0, yy2 - yy1 + 1)\n",
    "          \n",
    "            overlap = float(w * h) / area[j]\n",
    "          \n",
    "            if np.any(overlap > overlapThresh):\n",
    "                suppress.append(pos)\n",
    "            \n",
    "        idxs = np.delete(idxs, suppress)\n",
    "    return boxes[pick]"
   ]
  },
  {
   "cell_type": "code",
   "execution_count": null,
   "metadata": {
    "colab": {
     "base_uri": "https://localhost:8080/"
    },
    "id": "nLFhXs75TKc3",
    "outputId": "3fb697c5-38ef-4376-cd42-46f9486c0c00",
    "scrolled": true
   },
   "outputs": [],
   "source": [
    "!python3 fine_tune_rcnn.py"
   ]
  },
  {
   "cell_type": "code",
   "execution_count": null,
   "metadata": {
    "id": "o5uqahp12yTM",
    "scrolled": true
   },
   "outputs": [],
   "source": [
    "from tensorflow.keras.applications.mobilenet_v2 import preprocess_input\n",
    "from tensorflow.keras.preprocessing.image import img_to_array\n",
    "from tensorflow.keras.models import load_model\n",
    "import numpy as np\n",
    "import imutils\n",
    "import pickle\n",
    "import cv2\n",
    "def predict(image_path, save_name=\"default.png\"):\n",
    "  print(\"[INFO] loading model and label binarizer...\")\n",
    "  model = load_model(MODEL_PATH)\n",
    "  lb = pickle.loads(open(ENCODER_PATH, \"rb\").read())\n",
    "  image = cv2.imread(image_path)\n",
    "  image = imutils.resize(image, width=500)\n",
    "  print(\"[INFO] running selective search...\")\n",
    "  ss = cv2.ximgproc.segmentation.createSelectiveSearchSegmentation()\n",
    "  ss.setBaseImage(image)\n",
    "  ss.switchToSelectiveSearchFast()\n",
    "  rects = ss.process()\n",
    "\n",
    "  proposals = []\n",
    "  boxes = []\n",
    "  \n",
    "  for (x, y, w, h) in rects[:MAX_PROPOSALS_INFER]:\n",
    "      roi = image[y:y + h, x:x + w]\n",
    "      roi = cv2.cvtColor(roi, cv2.COLOR_BGR2RGB)\n",
    "      roi = cv2.resize(roi, INPUT_DIMS,\n",
    "                      interpolation=cv2.INTER_CUBIC)\n",
    "      roi = img_to_array(roi)\n",
    "      roi = preprocess_input(roi)\n",
    "      proposals.append(roi)\n",
    "      boxes.append((x, y, x + w, y + h))\n",
    "\n",
    "  proposals = np.array(proposals, dtype=\"float32\")\n",
    "  boxes = np.array(boxes, dtype=\"int32\")\n",
    "  print(\"[INFO] proposal shape: {}\".format(proposals.shape))\n",
    "  print(\"[INFO] classifying proposals...\")\n",
    "  proba = model.predict(proposals)\n",
    "  print(\"[INFO] applying NMS...\")\n",
    "  labels = lb.classes_[np.argmax(proba, axis=1)]\n",
    "  idxs = np.where(labels == \"positive\")[0]\n",
    "  boxes = boxes[idxs]\n",
    "  proba = proba[idxs][:, 1]\n",
    "  idxs = np.where(proba >= MIN_PROBA)\n",
    "  boxes = boxes[idxs]\n",
    "  proba = proba[idxs]\n",
    "  # from google.colab.patches import cv2_imshow\n",
    "  # import matplotlib.pyplot as plt\n",
    "  # from PIL import Image\n",
    "\n",
    "  clone = image.copy()\n",
    "  # cv2_imshow(clone)\n",
    "  clone = img_to_array(clone)\n",
    "\n",
    "  for (box, prob) in zip(boxes, proba):\n",
    "      (startX, startY, endX, endY) = box\n",
    "      cv2.rectangle(clone, (startX, startY), (endX, endY),\n",
    "                            (0, 255, 0), 2)\n",
    "      y = startY - 10 if startY - 10 > 10 else startY + 10\n",
    "      text = \"Erosion: {:.2f}%\".format(prob * 100)\n",
    "      cv2.putText(clone, text, (startX, y),\n",
    "                          cv2.FONT_HERSHEY_SIMPLEX, 0.45, (0, 255, 0), 2)\n",
    "\n",
    "  # cv2_imshow(clone)\n",
    "  print()\n",
    "  boxIdxs = non_max_suppression(boxes, proba)\n",
    "  for i in boxIdxs:\n",
    "      (startX, startY, endX, endY) = i\n",
    "      image = cv2.rectangle(image, (startX, startY), (endX, endY),\n",
    "                    (0, 255, 0), 2)\n",
    "      y = startY - 10 if startY - 10 > 10 else startY + 10\n",
    "      text = \"Erosion\"\n",
    "      image =cv2.putText(image, text, (startX, y),\n",
    "                          cv2.FONT_HERSHEY_SIMPLEX, 0.45, (0, 255, 0), 2)\n",
    "  outfolder = \"output\"\n",
    "  os.makedirs(outfolder, exist_ok=True)\n",
    "  img_path = os.path.join(outfolder, str(save_name))\n",
    "  img_image = cv2.cvtColor(image, cv2.COLOR_BGR2RGB)\n",
    "  cv2.imwrite(img_path, img_image)\n"
   ]
  },
  {
   "cell_type": "code",
   "execution_count": null,
   "metadata": {
    "colab": {
     "base_uri": "https://localhost:8080/"
    },
    "id": "igl2-V7A7F3A",
    "outputId": "c3c61ef1-e445-48d8-c337-dac62795503b"
   },
   "outputs": [],
   "source": [
    "for i in range(1,9):\n",
    "  print(str(i)+\".png\")\n",
    "  predict(\"inputs/\"+str(i)+\".png\", str(i)+\".png\")"
   ]
  },
  {
   "cell_type": "code",
   "execution_count": null,
   "metadata": {
    "id": "jfO2dGlZ7YSi"
   },
   "outputs": [],
   "source": []
  }
 ],
 "metadata": {
  "accelerator": "GPU",
  "colab": {
   "provenance": []
  },
  "gpuClass": "standard",
  "kernelspec": {
   "display_name": "Python 3 (ipykernel)",
   "language": "python",
   "name": "python3"
  },
  "language_info": {
   "codemirror_mode": {
    "name": "ipython",
    "version": 3
   },
   "file_extension": ".py",
   "mimetype": "text/x-python",
   "name": "python",
   "nbconvert_exporter": "python",
   "pygments_lexer": "ipython3",
   "version": "3.10.6"
  }
 },
 "nbformat": 4,
 "nbformat_minor": 1
}
